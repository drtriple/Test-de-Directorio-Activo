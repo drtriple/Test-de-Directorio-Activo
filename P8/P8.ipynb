{
 "cells": [
  {
   "attachments": {},
   "cell_type": "markdown",
   "metadata": {},
   "source": [
    "**##JUAN JOSÉ BEDOYA CHAVARRÍA**\n",
    "\n",
    "# Situación:\n",
    "\n",
    "<img src=\"./P8.png\">"
   ]
  },
  {
   "attachments": {},
   "cell_type": "markdown",
   "metadata": {},
   "source": [
    "La gráfica muestra que el PC2 se debe autenticar en el DC02 y DC03 como servidores de inicio de sesión. Por lo cual al estar utilizando un controlador de dominio que no es el adecuado, es posible que se produzcan problemas de autenticación o acceso a los recursos compartidos.\n",
    "\n",
    "El paso a seguir sería verificar la configuración de red del equipo y asegurarse de que está apuntando al controlador de dominio correcto, lo cual no es el caso, entonces se debe proceder a realizar el ajuste del PC2."
   ]
  }
 ],
 "metadata": {
  "kernelspec": {
   "display_name": "Python 3",
   "language": "python",
   "name": "python3"
  },
  "language_info": {
   "name": "python",
   "version": "3.10.9 (tags/v3.10.9:1dd9be6, Dec  6 2022, 20:01:21) [MSC v.1934 64 bit (AMD64)]"
  },
  "orig_nbformat": 4,
  "vscode": {
   "interpreter": {
    "hash": "369a72eb63b727d22718143f8c79057c0fb6e314a59b2dabbadce4e3e34dcd1a"
   }
  }
 },
 "nbformat": 4,
 "nbformat_minor": 2
}
