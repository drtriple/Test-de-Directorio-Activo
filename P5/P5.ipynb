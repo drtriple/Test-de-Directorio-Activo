{
 "cells": [
  {
   "attachments": {},
   "cell_type": "markdown",
   "metadata": {},
   "source": [
    "**##JUAN JOSÉ BEDOYA CHAVARRÍA**\n",
    "\n",
    "# Situación:\n",
    "Un usuario registrado en Azure Ad inicia sesión en los servicios Web de Microsoft desde su ubicación habitual en Colombia, 5 minutos mas tarde se conecta nuevamente a estos servicios usando un proxy de navegación de Holanda; este ultimo login será  permitido? Si/No Explique su respuesta:\n"
   ]
  },
  {
   "attachments": {},
   "cell_type": "markdown",
   "metadata": {},
   "source": [
    "En principio, un usuario registrado en Azure AD que inicia sesión en los servicios Web de Microsoft desde una ubicación diferente a la habitual puede esperar que el login sea permitido siempre y cuando cumpla con los requisitos de autenticación necesarios. Esto incluye proporcionar las credenciales de inicio de sesión correctas, como el nombre de usuario y la contraseña.\n",
    "\n",
    "Sin embargo, es posible que el usuario haya configurado medidas adicionales de seguridad en su cuenta, como la verificación en dos pasos o la configuración de un código de acceso de un solo uso, que pueden ser necesarias para completar el inicio de sesión desde una ubicación no reconocida. En este caso, el usuario debería seguir las instrucciones de la cuenta para completar el inicio de sesión y acceder a los servicios Web de Microsoft.\n",
    "\n",
    "Además, es posible que el uso de un proxy de navegación de Holanda pueda afectar la capacidad del usuario para acceder a los servicios Web de Microsoft, dependiendo de la configuración del proxy y de cualquier restricción de acceso que tenga la organización a la que este pertenezca."
   ]
  }
 ],
 "metadata": {
  "kernelspec": {
   "display_name": "Python 3",
   "language": "python",
   "name": "python3"
  },
  "language_info": {
   "name": "python",
   "version": "3.10.9 (tags/v3.10.9:1dd9be6, Dec  6 2022, 20:01:21) [MSC v.1934 64 bit (AMD64)]"
  },
  "orig_nbformat": 4,
  "vscode": {
   "interpreter": {
    "hash": "369a72eb63b727d22718143f8c79057c0fb6e314a59b2dabbadce4e3e34dcd1a"
   }
  }
 },
 "nbformat": 4,
 "nbformat_minor": 2
}
