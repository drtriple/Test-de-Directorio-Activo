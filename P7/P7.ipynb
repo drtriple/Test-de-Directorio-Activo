{
 "cells": [
  {
   "attachments": {},
   "cell_type": "markdown",
   "metadata": {},
   "source": [
    "**##JUAN JOSÉ BEDOYA CHAVARRÍA**\n",
    "\n",
    "# Situación:\n",
    "Proponga un esquema de alta disponibilidad para el servicio de ADconnect de una compañía que \n",
    "sincroniza su directorio onpremise contra Azure AD:\n"
   ]
  },
  {
   "attachments": {},
   "cell_type": "markdown",
   "metadata": {},
   "source": [
    "Una solución de alta disponibilidad para el servicio de AD Connect podría incluir la implementación de un par de servidores AD Connect en un entorno de clúster de alta disponibilidad. Esto permitiría que el servicio de sincronización de directorio continúe operando incluso si uno de los servidores falla o necesita mantenimiento.\n",
    "\n",
    "Para configurar un clúster de alta disponibilidad para AD Connect, podemos realizar los siguientes pasos:\n",
    "\n",
    "1. Instalar el AD Connect en ambos servidores. Debemos asegurarnos que ambos servidores tengamos la misma configuración y estén sincronizados con el mismo directorio local.\n",
    "\n",
    "2. Configurar una dirección IP virtual y un nombre de host virtual para el clúster. Esto permitirá que los clientes se conecten al clúster utilizando la misma dirección IP y nombre de host, independientemente de cuál de los servidores esté activo en cualquier momento.\n",
    "\n",
    "3. Configurar un clúster de alta disponibilidad utilizando la herramienta de clúster de Windows o un software de terceros, como Veritas Cluster Server o Linux HA.\n",
    "\n",
    "4. Configurar el servicio de sincronización de AD Connect para que se inicie automáticamente cuando el clúster se active en un servidor determinado.\n",
    "\n",
    "5. Configurar la monitorización del clúster y los servidores para asegurarse de que el servicio de sincronización de AD Connect esté siempre operativo.\n",
    "\n",
    "Tenemos que tener en cuenta que esta es solo una posible solución de alta disponibilidad para AD Connect. Dependiendo de las necesidades específicas de su empresa y el tamaño de su entorno, es posible que sea necesario ajustar esta solución o considerar otras opciones."
   ]
  },
  {
   "attachments": {},
   "cell_type": "markdown",
   "metadata": {},
   "source": [
    "<img src=\"./ADconnect.png\">"
   ]
  }
 ],
 "metadata": {
  "kernelspec": {
   "display_name": "Python 3",
   "language": "python",
   "name": "python3"
  },
  "language_info": {
   "name": "python",
   "version": "3.10.9 (tags/v3.10.9:1dd9be6, Dec  6 2022, 20:01:21) [MSC v.1934 64 bit (AMD64)]"
  },
  "orig_nbformat": 4,
  "vscode": {
   "interpreter": {
    "hash": "369a72eb63b727d22718143f8c79057c0fb6e314a59b2dabbadce4e3e34dcd1a"
   }
  }
 },
 "nbformat": 4,
 "nbformat_minor": 2
}
