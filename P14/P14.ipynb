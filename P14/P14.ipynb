{
 "cells": [
  {
   "attachments": {},
   "cell_type": "markdown",
   "metadata": {},
   "source": [
    "**##JUAN JOSÉ BEDOYA CHAVARRÍA**\n",
    "\n",
    "# Situación:\n",
    "\n",
    "Que característica debe ser habilitada en la sincronización de un directorio activo onpremise con Azure para que se puedan realizar cambios de contraseña a través de los portales de Azure"
   ]
  },
  {
   "attachments": {},
   "cell_type": "markdown",
   "metadata": {},
   "source": [
    "Para que los usuarios puedan cambiar sus contraseñas a través de los portales de Azure cuando la sincronización de un directorio local (on-premises) está habilitada, es necesario habilitar la característica \"Cambio de contraseña en Azure AD\" en el directorio sincronizado. Esta característica permite a los usuarios cambiar sus contraseñas a través de los portales de Azure, incluyendo el portal de usuario y el portal de administrador."
   ]
  }
 ],
 "metadata": {
  "kernelspec": {
   "display_name": "Python 3",
   "language": "python",
   "name": "python3"
  },
  "language_info": {
   "name": "python",
   "version": "3.10.9 (tags/v3.10.9:1dd9be6, Dec  6 2022, 20:01:21) [MSC v.1934 64 bit (AMD64)]"
  },
  "orig_nbformat": 4,
  "vscode": {
   "interpreter": {
    "hash": "369a72eb63b727d22718143f8c79057c0fb6e314a59b2dabbadce4e3e34dcd1a"
   }
  }
 },
 "nbformat": 4,
 "nbformat_minor": 2
}
