{
 "cells": [
  {
   "attachments": {},
   "cell_type": "markdown",
   "metadata": {},
   "source": [
    "**##JUAN JOSÉ BEDOYA CHAVARRÍA**\n",
    "\n",
    "# Situación:\n",
    "Cuales de los siguientes son componentes indispensables para el funcionamiento de Directorio Activo de Microsoft:\n",
    "\n",
    "- DNS <\n",
    "- DHCP < \n",
    "- File Share\n",
    "- BITS\n",
    "- AD FS\n",
    "- PKI\n"
   ]
  },
  {
   "attachments": {},
   "cell_type": "markdown",
   "metadata": {},
   "source": [
    "#### **PALABRAS CLAVES**\n",
    "\n",
    "**AD FS (Active Directory Federation Services, Servicios de Federación de Directorio Activo)** es un servicio de Microsoft que permite a las organizaciones establecer una federación de identidades con otras organizaciones o servicios en Internet. Esto permite a los usuarios acceder a recursos protegidos por contraseña en otras organizaciones sin tener que iniciar sesión de nuevo, lo que facilita la colaboración y el intercambio de información entre diferentes entornos.\n",
    "\n",
    "**PKI (Public Key Infrastructure, Infraestructura de Clave Pública)** es un conjunto de tecnologías y políticas que se utilizan para establecer y mantener la confidencialidad, integridad y autenticidad de la información enviada a través de Internet y otras redes de comunicación. PKI se basa en el uso de pares de claves criptográficas para codificar y decodificar la información, y se utiliza ampliamente en aplicaciones de seguridad de red, como la autenticación de usuario, la protección de correo electrónico y la protección de transacciones financieras en línea.\n",
    "\n",
    "Un recurso compartido de archivos, también conocido como **File Share**, es un servicio de red que permite a los usuarios acceder y compartir archivos en una computadora o servidor a través de la red. Los recursos compartidos de archivos se configuran en un servidor o computadora y se pueden acceder desde cualquier otra computadora conectada a la misma red.\n",
    "\n",
    "**DHCP (Dynamic Host Configuration Protocol, Protocolo de Configuración Dinámica de Host)** es un protocolo de red que se utiliza para asignar direcciones IP a dispositivos en una red. DHCP es muy útil en entornos de red que tienen un gran número de dispositivos que necesitan conectarse a la red, ya que permite asignar direcciones IP de manera automática y evita que los usuarios tengan que configurar manualmente las direcciones IP de sus dispositivos."
   ]
  }
 ],
 "metadata": {
  "kernelspec": {
   "display_name": "Python 3",
   "language": "python",
   "name": "python3"
  },
  "language_info": {
   "name": "python",
   "version": "3.10.9 (tags/v3.10.9:1dd9be6, Dec  6 2022, 20:01:21) [MSC v.1934 64 bit (AMD64)]"
  },
  "orig_nbformat": 4,
  "vscode": {
   "interpreter": {
    "hash": "369a72eb63b727d22718143f8c79057c0fb6e314a59b2dabbadce4e3e34dcd1a"
   }
  }
 },
 "nbformat": 4,
 "nbformat_minor": 2
}
