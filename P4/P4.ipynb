{
 "cells": [
  {
   "attachments": {},
   "cell_type": "markdown",
   "metadata": {},
   "source": [
    "**##JUAN JOSÉ BEDOYA CHAVARRÍA**\n",
    "\n",
    "# Situación:\n",
    "Cuando un técnico intenta ingresar una estación de trabajo al dominio, esta no logra completar la operación y obtiene un error, que log sugeriría revisar al técnico:\n",
    "- System Log\n",
    "- Application Log\n",
    "- Security Log\n",
    "- Netlogon.log\n",
    "- NetSetup.LOG < \n",
    "- PASSWD.LOG\n"
   ]
  },
  {
   "attachments": {},
   "cell_type": "markdown",
   "metadata": {},
   "source": [
    "#### ¿Por qué NetSetup.LOG y no Netlogon.log?\n",
    "Tenemos claro varios puntos; \n",
    "\n",
    "a) Que el técnico ya ingreso al sistema, es decir, no tuvo problemas con el inicio de sesión. Por lo cual revisar el Netlogon.log que nos entrega registro de la actividad del servicio de inicio de sesión de red no sería lo adecuado para este caso.\n",
    "\n",
    "b) Que el técnico estaba realizando una operación mediante una línea de comandos, utilizando posiblemente \"NETDOM\", claramente que el procedimiento varía ligeramente dependiendo de si el técnico tenía rol de administrador de dominio.\n",
    "\n",
    "c) Como identificamos que estaba realizando una operación, la cual falló, lo más puntual sería sevisar el NetSetup.LOG para revisar el registro de operaciones realizadas."
   ]
  },
  {
   "attachments": {},
   "cell_type": "markdown",
   "metadata": {},
   "source": [
    "#### **DICCIONARIO**\n",
    "\n",
    "**NetSetup.LOG** es un archivo de registro que se genera cuando se realizan operaciones de red, como unir una computadora a un dominio o configurar un servidor de red. Este archivo se almacena en el directorio \"%systemroot%\\debug\" en el sistema operativo Windows.\n",
    "\n",
    "**System Log** El registro del sistema, también conocido como System Log, es un archivo de registro que almacena información sobre eventos del sistema, como inicios de sesión, apagones, errores y advertencias. Estos eventos se registran en el registro del sistema para proporcionar un registro de lo que ha ocurrido en el sistema y puede ser útil para solucionar problemas o detectar problemas potenciales.\n",
    "\n",
    "El registro del sistema se almacena en el sistema operativo Windows en el directorio \"%systemroot%\\system32\\config\". El archivo se llama \"System\" y tiene la extensión \"LOG\".\n",
    "\n",
    "**Application Log** El registro de aplicaciones, también conocido como Application Log, es un archivo de registro que almacena información sobre eventos de aplicaciones, como errores, advertencias y otras notificaciones. Estos eventos se registran en el registro de aplicaciones para proporcionar un registro de lo que ha ocurrido en las aplicaciones y puede ser útil para solucionar problemas o detectar problemas potenciales.\n",
    "\n",
    "El registro de aplicaciones se almacena en el sistema operativo Windows en el directorio \"%systemroot%\\system32\\config\". El archivo se llama \"Application\" y tiene la extensión \"LOG\".\n",
    "\n",
    "**Security Log** El registro de seguridad, también conocido como Security Log, es un archivo de registro que almacena información sobre eventos de seguridad, como inicios de sesión fallidos, intentos de acceso no autorizados y otras notificaciones de seguridad. Estos eventos se registran en el registro de seguridad para proporcionar un registro de lo que ha ocurrido en el sistema y puede ser útil para solucionar problemas de seguridad o detectar problemas potenciales.\n",
    "\n",
    "El registro de seguridad se almacena en el sistema operativo Windows en el directorio \"%systemroot%\\system32\\config\". El archivo se llama \"Security\" y tiene la extensión \"LOG\".\n",
    "\n",
    "**Netlogon.log** Netlogon.log es un archivo de registro que se utiliza en el sistema operativo Windows para registrar la actividad del servicio de inicio de sesión de red (Netlogon). Este servicio se encarga de autenticar a los usuarios y computadoras en el dominio y de proporcionar acceso a los recursos del dominio.\n",
    "\n",
    "Netlogon.log se almacena en el directorio \"%systemroot%\\debug\" en el sistema operativo Windows y se utiliza para registrar los detalles de la actividad del servicio Netlogon.\n",
    "\n",
    "**PASSWD.LOG**"
   ]
  }
 ],
 "metadata": {
  "kernelspec": {
   "display_name": "Python 3",
   "language": "python",
   "name": "python3"
  },
  "language_info": {
   "name": "python",
   "version": "3.10.9 (tags/v3.10.9:1dd9be6, Dec  6 2022, 20:01:21) [MSC v.1934 64 bit (AMD64)]"
  },
  "orig_nbformat": 4,
  "vscode": {
   "interpreter": {
    "hash": "369a72eb63b727d22718143f8c79057c0fb6e314a59b2dabbadce4e3e34dcd1a"
   }
  }
 },
 "nbformat": 4,
 "nbformat_minor": 2
}
