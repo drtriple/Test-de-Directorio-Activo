{
 "cells": [
  {
   "attachments": {},
   "cell_type": "markdown",
   "metadata": {},
   "source": [
    "**##JUAN JOSÉ BEDOYA CHAVARRÍA**\n",
    "\n",
    "# Situación:\n",
    "En que lugares es almacenada la base de datos de un servidor DHCP en Failover Cluster:\n",
    "- Registro de Windows\n",
    "- %SystemRoot%\\System32\\DHCP <\n",
    "- SQL Server\n",
    "- Recurso compartido visible por ambos los miembros del FailoverCluster <\n"
   ]
  },
  {
   "attachments": {},
   "cell_type": "markdown",
   "metadata": {},
   "source": [
    "La base de datos de DHCP se almacena en un archivo con el nombre \"dhcp.mdb\". Este archivo se encuentra en el directorio de instalación de DHCP en el servidor que tiene el rol de propietario del recurso de DHCP en el clúster. Por ejemplo, si el directorio de instalación de DHCP es \"C:\\Windows\\System32\\dhcp\", entonces la base de datos de DHCP se almacenaría en \"C:\\Windows\\System32\\dhcp\\dhcp.mdb\".\n",
    "\n",
    "Es importante tener en cuenta que la base de datos de DHCP debe estar almacenada en un recurso compartido de almacenamiento accesible desde ambos nodos del clúster, ya que es la única forma de garantizar que ambos nodos puedan acceder a la base de datos y proporcionar servicios DHCP a los clientes. Si la base de datos de DHCP no está disponible para uno de los nodos del clúster, es posible que no pueda proporcionar servicios DHCP a los clientes y se producirá una interrupción del servicio."
   ]
  },
  {
   "attachments": {},
   "cell_type": "markdown",
   "metadata": {},
   "source": [
    "NOTA: %systemroot% generalmente se refiere al directorio C:\\WINDOWS, entonces el subdirectorio system32 está allí."
   ]
  }
 ],
 "metadata": {
  "kernelspec": {
   "display_name": "Python 3",
   "language": "python",
   "name": "python3"
  },
  "language_info": {
   "name": "python",
   "version": "3.10.9 (tags/v3.10.9:1dd9be6, Dec  6 2022, 20:01:21) [MSC v.1934 64 bit (AMD64)]"
  },
  "orig_nbformat": 4,
  "vscode": {
   "interpreter": {
    "hash": "369a72eb63b727d22718143f8c79057c0fb6e314a59b2dabbadce4e3e34dcd1a"
   }
  }
 },
 "nbformat": 4,
 "nbformat_minor": 2
}
