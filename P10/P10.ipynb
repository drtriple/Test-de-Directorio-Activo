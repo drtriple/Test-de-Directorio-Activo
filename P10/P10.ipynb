{
 "cells": [
  {
   "attachments": {},
   "cell_type": "markdown",
   "metadata": {},
   "source": [
    "**##JUAN JOSÉ BEDOYA CHAVARRÍA**\n",
    "\n",
    "# Situación:\n",
    "\n",
    "Que significa la siguiente linea de Log: [LOGON] [17956] CONTOSO: SamLogon: Transitive Network logon of \\User2 from \\\\PC06 (via SRVDD02) Returns 0xC000006A:"
   ]
  },
  {
   "attachments": {},
   "cell_type": "markdown",
   "metadata": {},
   "source": [
    "La línea de log proporcionada indica que se ha producido un inicio de sesión transitorio en la red de CONTOSO para el usuario \\User2 desde el equipo \\PC06 (a través de SRVDD02). El código de retorno 0xC000006A indica que se ha producido un error de inicio de sesión.\n",
    "\n",
    "En concreto, el código de error 0xC000006A se refiere a un problema de autenticación."
   ]
  }
 ],
 "metadata": {
  "kernelspec": {
   "display_name": "Python 3",
   "language": "python",
   "name": "python3"
  },
  "language_info": {
   "name": "python",
   "version": "3.10.9 (tags/v3.10.9:1dd9be6, Dec  6 2022, 20:01:21) [MSC v.1934 64 bit (AMD64)]"
  },
  "orig_nbformat": 4,
  "vscode": {
   "interpreter": {
    "hash": "369a72eb63b727d22718143f8c79057c0fb6e314a59b2dabbadce4e3e34dcd1a"
   }
  }
 },
 "nbformat": 4,
 "nbformat_minor": 2
}
